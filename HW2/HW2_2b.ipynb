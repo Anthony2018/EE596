{
 "cells": [
  {
   "cell_type": "code",
   "execution_count": 1,
   "metadata": {},
   "outputs": [],
   "source": [
    "import tensorflow as tf\n",
    "import pickle\n",
    "import numpy as np\n",
    "import load_cifar\n",
    "import time"
   ]
  },
  {
   "cell_type": "code",
   "execution_count": 2,
   "metadata": {},
   "outputs": [],
   "source": [
    "tf.reset_default_graph()"
   ]
  },
  {
   "cell_type": "markdown",
   "metadata": {},
   "source": [
    "<h1>Define Hyper-perparmeter</h1>"
   ]
  },
  {
   "cell_type": "code",
   "execution_count": 3,
   "metadata": {},
   "outputs": [],
   "source": [
    "num_classes = 10\n",
    "num_input = 3072\n",
    "num_output = 10\n",
    "n_hidden_1 = 1000\n",
    "n_hidden_2 = 500\n",
    "n_hidden_3 = 250\n",
    "n_hidden_4 = 100\n",
    "n_hidden_5 = 50\n",
    "n_hidden_6 = 20\n",
    "lr = 0.001\n",
    "batch_size = 32\n",
    "epochs = 15"
   ]
  },
  {
   "cell_type": "markdown",
   "metadata": {},
   "source": [
    "<h1>Define Placeholder</h1>"
   ]
  },
  {
   "cell_type": "code",
   "execution_count": 4,
   "metadata": {},
   "outputs": [],
   "source": [
    "X = tf.placeholder(tf.float32,[None, num_input], name='X')\n",
    "Y = tf.placeholder(tf.int32,[None, num_classes], name='Y')\n",
    "weights = {\n",
    "    'W1': tf.Variable(tf.random_normal([num_input, n_hidden_1],stddev=0.1), name='W1'),\n",
    "    'W2': tf.Variable(tf.random_normal([n_hidden_1, n_hidden_2],stddev=0.1), name='W2'),\n",
    "    'W3': tf.Variable(tf.random_normal([n_hidden_2, n_hidden_3],stddev=0.1), name='W3'),\n",
    "    'W4': tf.Variable(tf.random_normal([n_hidden_3, n_hidden_4],stddev=0.1), name='W4'),\n",
    "    'W5': tf.Variable(tf.random_normal([n_hidden_4, n_hidden_5],stddev=0.1), name='W5'),\n",
    "    'W6': tf.Variable(tf.random_normal([n_hidden_5, n_hidden_6],stddev=0.1), name='W6'),\n",
    "    'Wout': tf.Variable(tf.random_normal([n_hidden_6, num_classes],stddev=0.1),name='Wout')\n",
    "}\n",
    "biases = {\n",
    "    'b1': tf.Variable(tf.zeros(shape=[n_hidden_1]), name='b1'),\n",
    "    'b2': tf.Variable(tf.zeros(shape=[n_hidden_2]), name='b2'),\n",
    "    'b3': tf.Variable(tf.zeros(shape=[n_hidden_3]), name='b3'),\n",
    "    'b4': tf.Variable(tf.zeros(shape=[n_hidden_4]), name='b4'),\n",
    "    'b5': tf.Variable(tf.zeros(shape=[n_hidden_5]), name='b5'),\n",
    "    'b6': tf.Variable(tf.zeros(shape=[n_hidden_6]), name='b6'),\n",
    "    'bout': tf.Variable(tf.zeros(shape=[num_classes]), name='bout')\n",
    "}"
   ]
  },
  {
   "cell_type": "markdown",
   "metadata": {},
   "source": [
    "<h1>Define Neural Network Architecture</h1>"
   ]
  },
  {
   "cell_type": "code",
   "execution_count": 5,
   "metadata": {},
   "outputs": [],
   "source": [
    "def neural_net(x):\n",
    "    layer_1_out = tf.nn.relu(tf.add(tf.matmul(x,weights['W1']),biases['b1']))\n",
    "    layer_2_out = tf.nn.relu(tf.add(tf.matmul(layer_1_out,weights['W2']),biases['b2']))\n",
    "    layer_3_out = tf.nn.relu(tf.add(tf.matmul(layer_2_out, weights['W3']), biases['b3']))\n",
    "    layer_4_out = tf.nn.relu(tf.add(tf.matmul(layer_3_out, weights['W4']), biases['b4']))\n",
    "    layer_5_out = tf.nn.relu(tf.add(tf.matmul(layer_4_out, weights['W5']), biases['b5']))\n",
    "    layer_6_out = tf.nn.relu(tf.add(tf.matmul(layer_5_out, weights['W6']), biases['b6']))\n",
    "    out = tf.add(tf.matmul(layer_6_out,weights['Wout']),biases['bout'])\n",
    "    return out\n",
    "\n",
    "#predicted labels\n",
    "logits = neural_net(X)\n",
    "Y_hat = tf.nn.softmax(logits)"
   ]
  },
  {
   "cell_type": "markdown",
   "metadata": {},
   "source": [
    "<h1>Define cost andoptimization</h1>"
   ]
  },
  {
   "cell_type": "code",
   "execution_count": 6,
   "metadata": {},
   "outputs": [],
   "source": [
    "# define loss and optimizer\n",
    "loss = tf.reduce_mean(tf.nn.softmax_cross_entropy_with_logits_v2(logits=logits, labels=Y))\n",
    "optimizer = tf.train.AdamOptimizer(learning_rate=lr)\n",
    "train_op = optimizer.minimize(loss)\n",
    "\n",
    "# evaluate\n",
    "correct_pred = tf.equal(tf.argmax(Y_hat,1), tf.argmax(Y,1))\n",
    "accuracy = tf.reduce_mean(tf.cast(correct_pred, tf.float32),name='accuracy')"
   ]
  },
  {
   "cell_type": "markdown",
   "metadata": {},
   "source": [
    "<h1>Training and testing</h1>\n",
    "<h2>1.Print out validation accuracy after each training poch</h2>\n",
    "<h2>2.Print out training time you spend on each epoch</h2>\n",
    "<h2>3.Print out testing accuracy in the end</h2>"
   ]
  },
  {
   "cell_type": "code",
   "execution_count": 7,
   "metadata": {},
   "outputs": [],
   "source": [
    "val_features, val_labels = pickle.load(open('val_data.pickle','rb'))\n",
    "training_features,training_labels = pickle.load(open('train_data.pickle','rb'))\n",
    "test_features, test_labels = pickle.load(open('test_data.pickle','rb'))\n",
    "val_labels = np.squeeze(val_labels.todense())\n",
    "training_labels = np.squeeze(training_labels.todense())\n",
    "test_labels = np.squeeze(test_labels.todense())"
   ]
  },
  {
   "cell_type": "code",
   "execution_count": 8,
   "metadata": {},
   "outputs": [],
   "source": [
    "def next_batch(batch_size, data, labels):\n",
    "    idx = np.arange(0 , len(data))\n",
    "    np.random.shuffle(idx)\n",
    "    idx = idx[:batch_size]\n",
    "    data_shuffle = [data[i] for i in idx]\n",
    "    labels_shuffle = [labels[i] for i in idx]\n",
    "    data_shuffle = np.asarray(data_shuffle)\n",
    "    labels_shuffle = np.asarray(labels_shuffle)\n",
    "    labels_shuffle = np.squeeze(labels_shuffle)\n",
    "    return data_shuffle, labels_shuffle"
   ]
  },
  {
   "cell_type": "code",
   "execution_count": 9,
   "metadata": {
    "scrolled": false
   },
   "outputs": [
    {
     "name": "stdout",
     "output_type": "stream",
     "text": [
      "epoch 1, loss: 1.753, acc: 0.438, acc_val:0.332, time: 36.429\t\n",
      "epoch 2, loss: 1.652, acc: 0.469, acc_val:0.370, time: 37.155\t\n",
      "epoch 3, loss: 1.674, acc: 0.250, acc_val:0.406, time: 35.809\t\n",
      "epoch 4, loss: 1.488, acc: 0.375, acc_val:0.425, time: 35.583\t\n",
      "epoch 5, loss: 1.257, acc: 0.500, acc_val:0.432, time: 35.568\t\n",
      "epoch 6, loss: 1.537, acc: 0.500, acc_val:0.441, time: 36.093\t\n",
      "epoch 7, loss: 1.436, acc: 0.469, acc_val:0.459, time: 35.601\t\n",
      "epoch 8, loss: 1.371, acc: 0.500, acc_val:0.458, time: 35.672\t\n",
      "epoch 9, loss: 1.005, acc: 0.625, acc_val:0.475, time: 35.680\t\n",
      "epoch 10, loss: 1.266, acc: 0.625, acc_val:0.462, time: 35.686\t\n",
      "epoch 11, loss: 1.476, acc: 0.438, acc_val:0.469, time: 35.633\t\n",
      "epoch 12, loss: 1.160, acc: 0.594, acc_val:0.486, time: 35.653\t\n",
      "epoch 13, loss: 1.239, acc: 0.500, acc_val:0.485, time: 35.579\t\n",
      "epoch 14, loss: 1.430, acc: 0.469, acc_val:0.484, time: 35.729\t\n",
      "epoch 15, loss: 1.234, acc: 0.562, acc_val:0.489, time: 37.090\t\n",
      "acc_test: 0.488\n"
     ]
    }
   ],
   "source": [
    "init = tf.global_variables_initializer()\n",
    "\n",
    "total_batch = int(40000 / batch_size)\n",
    "num_steps = (epochs + 1) * total_batch\n",
    "\n",
    "acc_val_list = []\n",
    "\n",
    "with tf.Session() as sess:\n",
    "    sess.run(init)\n",
    "    time_start = time.time()\n",
    "    for i in range(num_steps):\n",
    "        # fetch batch\n",
    "        batch_x, batch_y = next_batch(batch_size, training_features, training_labels)\n",
    "        # run optimization\n",
    "        sess.run(train_op, feed_dict={X: batch_x, Y: batch_y})\n",
    "        if (i > 1) and (i % total_batch == 0):\n",
    "            time_end = time.time()\n",
    "            l, acc = sess.run([loss, accuracy], feed_dict={X: batch_x, Y: batch_y})\n",
    "            acc_val = sess.run(accuracy, feed_dict={X: val_features, Y: val_labels})\n",
    "            acc_val_list.append(acc_val)\n",
    "            print(\"epoch \" + str(int(i/total_batch)) + \", loss: {:.3f}\".format(l) + \\\n",
    "                  \", acc: {:.3f}\".format(acc) + \", acc_val:{:.3f}\".format(acc_val) + \\\n",
    "                  \", time: {:.3f}\\t\".format(time_end-time_start))\n",
    "            time_start = time.time()\n",
    "\n",
    "    acc_test = sess.run(accuracy, feed_dict={X: test_features, Y: test_labels})\n",
    "    print(\"acc_test: {:.3f}\".format(acc_test))"
   ]
  },
  {
   "cell_type": "code",
   "execution_count": null,
   "metadata": {},
   "outputs": [],
   "source": []
  }
 ],
 "metadata": {
  "kernelspec": {
   "display_name": "Python 3",
   "language": "python",
   "name": "python3"
  },
  "language_info": {
   "codemirror_mode": {
    "name": "ipython",
    "version": 3
   },
   "file_extension": ".py",
   "mimetype": "text/x-python",
   "name": "python",
   "nbconvert_exporter": "python",
   "pygments_lexer": "ipython3",
   "version": "3.7.4"
  }
 },
 "nbformat": 4,
 "nbformat_minor": 2
}
