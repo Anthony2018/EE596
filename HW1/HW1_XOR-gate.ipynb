{
 "cells": [
  {
   "cell_type": "code",
   "execution_count": 13,
   "metadata": {},
   "outputs": [],
   "source": [
    "import tensorflow as tf\n",
    "import numpy as np\n",
    "import matplotlib.pyplot as plt"
   ]
  },
  {
   "cell_type": "markdown",
   "metadata": {},
   "source": [
    "<h2>Define Hyper-parameters</h2>"
   ]
  },
  {
   "cell_type": "code",
   "execution_count": 14,
   "metadata": {},
   "outputs": [],
   "source": [
    "#define number of training iterations\n",
    "NUM_ITER = 1000\n",
    "#define learning rate\n",
    "lr = 1"
   ]
  },
  {
   "cell_type": "markdown",
   "metadata": {},
   "source": [
    "<h2>Define your input data and expected labels</h2>"
   ]
  },
  {
   "cell_type": "code",
   "execution_count": 15,
   "metadata": {},
   "outputs": [],
   "source": [
    "#define the training input data\n",
    "x = np.array([[0,0],[1,0],[1,1],[0,1]],np.float32)\n",
    "#define the target outputs/labels for XOR gate\n",
    "y = np.array([0,1,0,1],np.float32)\n",
    "y = np.reshape(y,[4,1])"
   ]
  },
  {
   "cell_type": "markdown",
   "metadata": {},
   "source": [
    "<h2>Define placeholder and Variables</h2>"
   ]
  },
  {
   "cell_type": "code",
   "execution_count": 16,
   "metadata": {},
   "outputs": [],
   "source": [
    "#define the placeholder to feed the training data later\n",
    "X = tf.placeholder(tf.float32,shape=[4,2],name='X')\n",
    "Y = tf.placeholder(tf.float32,shape=[4,1],name='Y')\n",
    "#define the weights and initialized with random normal distribution\n",
    "W1 = tf.Variable(tf.random_normal([2,2]),tf.float32,name='W1')\n",
    "W2 = tf.Variable(tf.random_normal([2,1]),tf.float32,name='W2')\n",
    "#define the bias with zero initialization\n",
    "b1 = tf.Variable(tf.zeros([1,2]),tf.float32,name='b1')\n",
    "b2 = tf.Variable(tf.zeros([1,1]),tf.float32,name='b2')\n"
   ]
  },
  {
   "cell_type": "markdown",
   "metadata": {},
   "source": [
    "<h2>Define the neural network</h2>"
   ]
  },
  {
   "cell_type": "code",
   "execution_count": 17,
   "metadata": {},
   "outputs": [],
   "source": [
    "# define the predicted output label\n",
    "X1_out = tf.sigmoid(tf.add(tf.matmul(X, W1), b1))\n",
    "Y_pred = tf.add(tf.matmul(X1_out, W2), b2)"
   ]
  },
  {
   "cell_type": "markdown",
   "metadata": {},
   "source": [
    "<h2>Define cost function</h2>"
   ]
  },
  {
   "cell_type": "markdown",
   "metadata": {},
   "source": []
  },
  {
   "cell_type": "code",
   "execution_count": 18,
   "metadata": {},
   "outputs": [],
   "source": [
    "# the error between target and logit\n",
    "loss = tf.losses.sigmoid_cross_entropy(Y, Y_pred)\n",
    "step = tf.train.GradientDescentOptimizer(lr).minimize(loss)\n",
    "# define accuracy\n",
    "Y_out = tf.round(tf.sigmoid(Y_pred))\n",
    "error_eval = tf.count_nonzero(Y - Y_out)"
   ]
  },
  {
   "cell_type": "markdown",
   "metadata": {},
   "source": [
    "<h2>Execute training</h2>"
   ]
  },
  {
   "cell_type": "code",
   "execution_count": 20,
   "metadata": {
    "scrolled": false
   },
   "outputs": [
    {
     "name": "stdout",
     "output_type": "stream",
     "text": [
      "epoch 0: loss 0.701416, accuracy 0.500000\n",
      "epoch 100: loss 0.585689, accuracy 0.750000\n",
      "epoch 200: loss 0.489318, accuracy 0.750000\n",
      "epoch 300: loss 0.397529, accuracy 0.750000\n",
      "epoch 400: loss 0.151876, accuracy 1.000000\n",
      "epoch 500: loss 0.069553, accuracy 1.000000\n",
      "epoch 600: loss 0.042759, accuracy 1.000000\n",
      "epoch 700: loss 0.030417, accuracy 1.000000\n",
      "epoch 800: loss 0.023460, accuracy 1.000000\n",
      "epoch 900: loss 0.019033, accuracy 1.000000\n"
     ]
    }
   ],
   "source": [
    "#initialize tensorflow variables\n",
    "init = tf.global_variables_initializer()\n",
    "\n",
    "#start tensorflow session\n",
    "with tf.Session() as sess:\n",
    "    #run initialization\n",
    "    sess.run(init)\n",
    "    #training for number of iterations\n",
    "    for i in range(NUM_ITER):\n",
    "        #every iteration we run optimization on the training data X and labels Y\n",
    "        sess.run(step,feed_dict = {X:x,Y:y})\n",
    "        if i %100 == 0:\n",
    "            loss_value = sess.run(loss, feed_dict = {X:x,Y:y})\n",
    "            error_num = sess.run(error_eval, feed_dict = {X:x,Y:y})\n",
    "            print('epoch %d: loss %f, accuracy %f' % (i, loss_value, 1 - error_num / 4.0))\n",
    "    \n",
    "    Y_out = sess.run(Y_out, feed_dict = {X:x, Y:y})   \n",
    "        \n",
    "    \n",
    "    #after training, we acquire the weight and bias\n",
    "    W1 = np.squeeze(sess.run(W1))\n",
    "    W2 = np.squeeze(sess.run(W2))\n",
    "    b1 = np.squeeze(sess.run(b1))\n",
    "    b2 = np.squeeze(sess.run(b2))"
   ]
  },
  {
   "cell_type": "code",
   "execution_count": 21,
   "metadata": {},
   "outputs": [
    {
     "name": "stdout",
     "output_type": "stream",
     "text": [
      "W1 = [[-6.74804   -4.7653146]\n",
      " [-6.5780377 -4.743475 ]]\n",
      "W2 = [-10.37727    9.869373]\n",
      "b1 = [2.7020135 7.046109 ]\n",
      "b2 = -4.532846\n",
      "Y_out = [[0.]\n",
      " [1.]\n",
      " [0.]\n",
      " [1.]]\n"
     ]
    }
   ],
   "source": [
    "print('W1 =', W1)\n",
    "print('W2 =', W2)\n",
    "print('b1 =', b1)\n",
    "print('b2 =', b2)\n",
    "print('Y_out =', Y_out)"
   ]
  },
  {
   "cell_type": "markdown",
   "metadata": {},
   "source": [
    "<h2>Plot</h2>"
   ]
  },
  {
   "cell_type": "code",
   "execution_count": null,
   "metadata": {},
   "outputs": [],
   "source": [
    "# plot out the decision line \n",
    "plot_x = np.array([np.min(x[:, 0] - 0.2), np.max(x[:, 1] + 0.2)])\n",
    "plot_y1 = 1 / W1[1,0] * (- W1[0,0] * plot_x - b1[0])\n",
    "plot_y2 = 1 / W1[1,1] * (- W1[0,1] * plot_x - b1[1])\n",
    "\n",
    "plt.scatter(x[:, 0], x[:, 1], c=np.squeeze(y), s=100, cmap='viridis')\n",
    "plt.plot(plot_x, plot_y1, color='b', linewidth=1)\n",
    "plt.plot(plot_x, plot_y2, color='b', linewidth=1)\n",
    "plt.xlim([-0.2, 1.2]); plt.ylim([-0.2, 1.2]);\n",
    "plt.show()"
   ]
  },
  {
   "cell_type": "code",
   "execution_count": null,
   "metadata": {},
   "outputs": [],
   "source": []
  }
 ],
 "metadata": {
  "kernelspec": {
   "display_name": "Python 3",
   "language": "python",
   "name": "python3"
  },
  "language_info": {
   "codemirror_mode": {
    "name": "ipython",
    "version": 3
   },
   "file_extension": ".py",
   "mimetype": "text/x-python",
   "name": "python",
   "nbconvert_exporter": "python",
   "pygments_lexer": "ipython3",
   "version": "3.7.4"
  }
 },
 "nbformat": 4,
 "nbformat_minor": 2
}
